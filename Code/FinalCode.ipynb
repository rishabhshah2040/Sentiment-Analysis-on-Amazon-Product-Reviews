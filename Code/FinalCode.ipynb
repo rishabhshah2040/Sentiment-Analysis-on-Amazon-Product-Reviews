{
 "cells": [
  {
   "cell_type": "raw",
   "id": "efc7c1cf-9b18-4a4d-9ff2-eb2b721ee730",
   "metadata": {},
   "source": [
    "INFO 6105 FINAL PROJECT\n",
    "SENTIMENT ANALYSIS OF AMAZON FOOD REVIEWS"
   ]
  },
  {
   "cell_type": "code",
   "execution_count": 12,
   "id": "3961dbf4-0240-42de-9216-68a822fb05d4",
   "metadata": {
    "tags": []
   },
   "outputs": [
    {
     "name": "stderr",
     "output_type": "stream",
     "text": [
      "[nltk_data] Downloading package punkt to /Users/khursheed/nltk_data...\n",
      "[nltk_data]   Package punkt is already up-to-date!\n",
      "[nltk_data] Downloading package stopwords to\n",
      "[nltk_data]     /Users/khursheed/nltk_data...\n",
      "[nltk_data]   Package stopwords is already up-to-date!\n"
     ]
    },
    {
     "data": {
      "text/plain": [
       "True"
      ]
     },
     "execution_count": 12,
     "metadata": {},
     "output_type": "execute_result"
    }
   ],
   "source": [
    "import pandas as pd\n",
    "import numpy as np\n",
    "import re\n",
    "import string\n",
    "import time\n",
    "import matplotlib.pyplot as plt\n",
    "import seaborn as sns\n",
    "import nltk\n",
    "from collections import Counter\n",
    "from nltk.tokenize import word_tokenize\n",
    "from nltk.corpus import stopwords\n",
    "from sklearn.model_selection import train_test_split, GridSearchCV, cross_val_score\n",
    "from sklearn.preprocessing import StandardScaler, LabelEncoder\n",
    "from sklearn.metrics import accuracy_score, classification_report, roc_auc_score, roc_curve, auc, confusion_matrix\n",
    "from sklearn.feature_extraction.text import TfidfVectorizer\n",
    "from sklearn.ensemble import RandomForestClassifier\n",
    "from sklearn.tree import DecisionTreeClassifier\n",
    "from sklearn.linear_model import LogisticRegression\n",
    "from sklearn.svm import SVC, LinearSVC\n",
    "from sklearn.naive_bayes import MultinomialNB, GaussianNB\n",
    "from sklearn.neighbors import KNeighborsClassifier\n",
    "from sklearn.utils import resample\n",
    "from gensim.models import Word2Vec\n",
    "import xgboost as xgb\n",
    "import tensorflow as tf\n",
    "from tensorflow.keras.models import Sequential\n",
    "from tensorflow.keras.layers import Dense\n",
    "\n",
    "# Download required NLTK datasets\n",
    "nltk.download('punkt')\n",
    "nltk.download('stopwords')"
   ]
  },
  {
   "cell_type": "code",
   "execution_count": 13,
   "id": "a9e431b2-e4ce-4eb9-8eaa-5c8b9931e68e",
   "metadata": {
    "tags": []
   },
   "outputs": [],
   "source": [
    "reviewPre= pd.read_csv(\"Reviews.csv\")"
   ]
  },
  {
   "cell_type": "code",
   "execution_count": 14,
   "id": "38c46458-9ae3-4a30-9692-b12927d2fe1d",
   "metadata": {
    "tags": []
   },
   "outputs": [],
   "source": [
    "forSample=reviewPre.drop(['UserId', 'Id','ProfileName', 'HelpfulnessNumerator', 'HelpfulnessDenominator', 'Time', 'Summary'], axis=1)\n",
    "forSample = forSample.dropna(subset=['Text'])"
   ]
  },
  {
   "cell_type": "code",
   "execution_count": 15,
   "id": "93e847a8-0f88-4a11-8d4f-f8376c603aea",
   "metadata": {
    "tags": []
   },
   "outputs": [
    {
     "data": {
      "text/html": [
       "<div>\n",
       "<style scoped>\n",
       "    .dataframe tbody tr th:only-of-type {\n",
       "        vertical-align: middle;\n",
       "    }\n",
       "\n",
       "    .dataframe tbody tr th {\n",
       "        vertical-align: top;\n",
       "    }\n",
       "\n",
       "    .dataframe thead th {\n",
       "        text-align: right;\n",
       "    }\n",
       "</style>\n",
       "<table border=\"1\" class=\"dataframe\">\n",
       "  <thead>\n",
       "    <tr style=\"text-align: right;\">\n",
       "      <th></th>\n",
       "      <th>ProductId</th>\n",
       "      <th>Score</th>\n",
       "      <th>Text</th>\n",
       "    </tr>\n",
       "  </thead>\n",
       "  <tbody>\n",
       "    <tr>\n",
       "      <th>0</th>\n",
       "      <td>B001E4KFG0</td>\n",
       "      <td>5</td>\n",
       "      <td>I have bought several of the Vitality canned d...</td>\n",
       "    </tr>\n",
       "    <tr>\n",
       "      <th>1</th>\n",
       "      <td>B00813GRG4</td>\n",
       "      <td>1</td>\n",
       "      <td>Product arrived labeled as Jumbo Salted Peanut...</td>\n",
       "    </tr>\n",
       "    <tr>\n",
       "      <th>2</th>\n",
       "      <td>B000LQOCH0</td>\n",
       "      <td>4</td>\n",
       "      <td>This is a confection that has been around a fe...</td>\n",
       "    </tr>\n",
       "    <tr>\n",
       "      <th>3</th>\n",
       "      <td>B000UA0QIQ</td>\n",
       "      <td>2</td>\n",
       "      <td>If you are looking for the secret ingredient i...</td>\n",
       "    </tr>\n",
       "    <tr>\n",
       "      <th>4</th>\n",
       "      <td>B006K2ZZ7K</td>\n",
       "      <td>5</td>\n",
       "      <td>Great taffy at a great price.  There was a wid...</td>\n",
       "    </tr>\n",
       "    <tr>\n",
       "      <th>5</th>\n",
       "      <td>B006K2ZZ7K</td>\n",
       "      <td>4</td>\n",
       "      <td>I got a wild hair for taffy and ordered this f...</td>\n",
       "    </tr>\n",
       "    <tr>\n",
       "      <th>6</th>\n",
       "      <td>B006K2ZZ7K</td>\n",
       "      <td>5</td>\n",
       "      <td>This saltwater taffy had great flavors and was...</td>\n",
       "    </tr>\n",
       "    <tr>\n",
       "      <th>7</th>\n",
       "      <td>B006K2ZZ7K</td>\n",
       "      <td>5</td>\n",
       "      <td>This taffy is so good.  It is very soft and ch...</td>\n",
       "    </tr>\n",
       "    <tr>\n",
       "      <th>8</th>\n",
       "      <td>B000E7L2R4</td>\n",
       "      <td>5</td>\n",
       "      <td>Right now I'm mostly just sprouting this so my...</td>\n",
       "    </tr>\n",
       "    <tr>\n",
       "      <th>9</th>\n",
       "      <td>B00171APVA</td>\n",
       "      <td>5</td>\n",
       "      <td>This is a very healthy dog food. Good for thei...</td>\n",
       "    </tr>\n",
       "  </tbody>\n",
       "</table>\n",
       "</div>"
      ],
      "text/plain": [
       "    ProductId  Score                                               Text\n",
       "0  B001E4KFG0      5  I have bought several of the Vitality canned d...\n",
       "1  B00813GRG4      1  Product arrived labeled as Jumbo Salted Peanut...\n",
       "2  B000LQOCH0      4  This is a confection that has been around a fe...\n",
       "3  B000UA0QIQ      2  If you are looking for the secret ingredient i...\n",
       "4  B006K2ZZ7K      5  Great taffy at a great price.  There was a wid...\n",
       "5  B006K2ZZ7K      4  I got a wild hair for taffy and ordered this f...\n",
       "6  B006K2ZZ7K      5  This saltwater taffy had great flavors and was...\n",
       "7  B006K2ZZ7K      5  This taffy is so good.  It is very soft and ch...\n",
       "8  B000E7L2R4      5  Right now I'm mostly just sprouting this so my...\n",
       "9  B00171APVA      5  This is a very healthy dog food. Good for thei..."
      ]
     },
     "execution_count": 15,
     "metadata": {},
     "output_type": "execute_result"
    }
   ],
   "source": [
    "forSample.head(10)"
   ]
  },
  {
   "cell_type": "code",
   "execution_count": 16,
   "id": "cd0164b2-ca64-4125-9b52-fb5f2d0d83d4",
   "metadata": {
    "tags": []
   },
   "outputs": [],
   "source": [
    "reviewf = forSample.sample(frac=0.345, random_state=42)\n",
    "reviewf.to_csv('sampled_dataset.csv', index=False)"
   ]
  },
  {
   "cell_type": "code",
   "execution_count": 17,
   "id": "a1ecabd1-c595-4ee8-8b1f-2c49beafc055",
   "metadata": {
    "tags": []
   },
   "outputs": [
    {
     "name": "stdout",
     "output_type": "stream",
     "text": [
      "<class 'pandas.core.frame.DataFrame'>\n",
      "Int64Index: 196117 entries, 165256 to 472135\n",
      "Data columns (total 3 columns):\n",
      " #   Column     Non-Null Count   Dtype \n",
      "---  ------     --------------   ----- \n",
      " 0   ProductId  196117 non-null  object\n",
      " 1   Score      196117 non-null  int64 \n",
      " 2   Text       196117 non-null  object\n",
      "dtypes: int64(1), object(2)\n",
      "memory usage: 6.0+ MB\n"
     ]
    }
   ],
   "source": [
    "reviewf.info()"
   ]
  },
  {
   "cell_type": "code",
   "execution_count": 18,
   "id": "6fdef7e4-74a6-47b6-a8ca-f895ff8f8c67",
   "metadata": {
    "tags": []
   },
   "outputs": [],
   "source": [
    "reviewf.sort_values(by=['ProductId'], inplace=True)"
   ]
  },
  {
   "cell_type": "code",
   "execution_count": 19,
   "id": "b7bd34d1-85ff-4145-9729-ca587da2d63b",
   "metadata": {
    "tags": []
   },
   "outputs": [],
   "source": [
    "#sentiment label based on the rating score\n",
    "reviewf['Sentiment'] = reviewf['Score'].apply(lambda x: '1' if x > 3 else '0')\n",
    "#1 is postive, 0 is negative"
   ]
  },
  {
   "cell_type": "code",
   "execution_count": 20,
   "id": "24082890-34ab-4164-9711-78c589e2da42",
   "metadata": {
    "tags": []
   },
   "outputs": [
    {
     "data": {
      "text/html": [
       "<div>\n",
       "<style scoped>\n",
       "    .dataframe tbody tr th:only-of-type {\n",
       "        vertical-align: middle;\n",
       "    }\n",
       "\n",
       "    .dataframe tbody tr th {\n",
       "        vertical-align: top;\n",
       "    }\n",
       "\n",
       "    .dataframe thead th {\n",
       "        text-align: right;\n",
       "    }\n",
       "</style>\n",
       "<table border=\"1\" class=\"dataframe\">\n",
       "  <thead>\n",
       "    <tr style=\"text-align: right;\">\n",
       "      <th></th>\n",
       "      <th>ProductId</th>\n",
       "      <th>Score</th>\n",
       "      <th>Text</th>\n",
       "      <th>Sentiment</th>\n",
       "    </tr>\n",
       "  </thead>\n",
       "  <tbody>\n",
       "    <tr>\n",
       "      <th>150527</th>\n",
       "      <td>0006641040</td>\n",
       "      <td>3</td>\n",
       "      <td>This book was purchased to be used in a classr...</td>\n",
       "      <td>0</td>\n",
       "    </tr>\n",
       "    <tr>\n",
       "      <th>150519</th>\n",
       "      <td>0006641040</td>\n",
       "      <td>5</td>\n",
       "      <td>This book was purchased as a birthday gift for...</td>\n",
       "      <td>1</td>\n",
       "    </tr>\n",
       "    <tr>\n",
       "      <th>150511</th>\n",
       "      <td>0006641040</td>\n",
       "      <td>5</td>\n",
       "      <td>I set aside at least an hour each day to read ...</td>\n",
       "      <td>1</td>\n",
       "    </tr>\n",
       "    <tr>\n",
       "      <th>150495</th>\n",
       "      <td>0006641040</td>\n",
       "      <td>5</td>\n",
       "      <td>One of my earliest memories is of this book.  ...</td>\n",
       "      <td>1</td>\n",
       "    </tr>\n",
       "    <tr>\n",
       "      <th>150500</th>\n",
       "      <td>0006641040</td>\n",
       "      <td>5</td>\n",
       "      <td>I can remember seeing the show when it aired o...</td>\n",
       "      <td>1</td>\n",
       "    </tr>\n",
       "    <tr>\n",
       "      <th>150498</th>\n",
       "      <td>0006641040</td>\n",
       "      <td>5</td>\n",
       "      <td>This book has been a favorite of mine since I ...</td>\n",
       "      <td>1</td>\n",
       "    </tr>\n",
       "    <tr>\n",
       "      <th>150496</th>\n",
       "      <td>0006641040</td>\n",
       "      <td>1</td>\n",
       "      <td>I give five stars to the Maurice Sendak story....</td>\n",
       "      <td>0</td>\n",
       "    </tr>\n",
       "    <tr>\n",
       "      <th>150493</th>\n",
       "      <td>0006641040</td>\n",
       "      <td>5</td>\n",
       "      <td>All of my children love this book.  My first g...</td>\n",
       "      <td>1</td>\n",
       "    </tr>\n",
       "    <tr>\n",
       "      <th>150516</th>\n",
       "      <td>0006641040</td>\n",
       "      <td>5</td>\n",
       "      <td>Classic children's book, can't go wrong. I rea...</td>\n",
       "      <td>1</td>\n",
       "    </tr>\n",
       "    <tr>\n",
       "      <th>150509</th>\n",
       "      <td>0006641040</td>\n",
       "      <td>5</td>\n",
       "      <td>TITLE: Chicken Soup with Rice&lt;br /&gt;AUTHOR: Mau...</td>\n",
       "      <td>1</td>\n",
       "    </tr>\n",
       "  </tbody>\n",
       "</table>\n",
       "</div>"
      ],
      "text/plain": [
       "         ProductId  Score                                               Text  \\\n",
       "150527  0006641040      3  This book was purchased to be used in a classr...   \n",
       "150519  0006641040      5  This book was purchased as a birthday gift for...   \n",
       "150511  0006641040      5  I set aside at least an hour each day to read ...   \n",
       "150495  0006641040      5  One of my earliest memories is of this book.  ...   \n",
       "150500  0006641040      5  I can remember seeing the show when it aired o...   \n",
       "150498  0006641040      5  This book has been a favorite of mine since I ...   \n",
       "150496  0006641040      1  I give five stars to the Maurice Sendak story....   \n",
       "150493  0006641040      5  All of my children love this book.  My first g...   \n",
       "150516  0006641040      5  Classic children's book, can't go wrong. I rea...   \n",
       "150509  0006641040      5  TITLE: Chicken Soup with Rice<br />AUTHOR: Mau...   \n",
       "\n",
       "       Sentiment  \n",
       "150527         0  \n",
       "150519         1  \n",
       "150511         1  \n",
       "150495         1  \n",
       "150500         1  \n",
       "150498         1  \n",
       "150496         0  \n",
       "150493         1  \n",
       "150516         1  \n",
       "150509         1  "
      ]
     },
     "execution_count": 20,
     "metadata": {},
     "output_type": "execute_result"
    }
   ],
   "source": [
    "reviewf.head(10)"
   ]
  },
  {
   "cell_type": "code",
   "execution_count": 21,
   "id": "fbeba349-c5f7-490d-b7b8-5e42a2576e48",
   "metadata": {
    "tags": []
   },
   "outputs": [
    {
     "name": "stdout",
     "output_type": "stream",
     "text": [
      "Number of unique ProductIds: 45719\n"
     ]
    }
   ],
   "source": [
    "unique_product_count = reviewf['ProductId'].nunique()\n",
    "print(\"Number of unique ProductIds:\", unique_product_count)"
   ]
  },
  {
   "cell_type": "markdown",
   "id": "ed0ead34-c1c7-4773-ba22-76687ab57f3b",
   "metadata": {
    "tags": []
   },
   "source": [
    "Visualization of data"
   ]
  },
  {
   "cell_type": "code",
   "execution_count": 22,
   "id": "266fbaa7-9ff8-426b-8f39-8acc098882e2",
   "metadata": {
    "tags": []
   },
   "outputs": [
    {
     "data": {
      "image/png": "[encoded data removed]",
      "text/plain": [
       "<Figure size 800x600 with 1 Axes>"
      ]
     },
     "metadata": {},
     "output_type": "display_data"
    }
   ],
   "source": [
    "# Plotting the distribution of sentiment scores\n",
    "plt.figure(figsize=(8, 6))\n",
    "sns.countplot(x='Sentiment', data=reviewf)\n",
    "plt.title('Distribution of Sentiment Scores')\n",
    "plt.xlabel('Sentiment Score')\n",
    "plt.ylabel('Count')\n",
    "plt.show()"
   ]
  },
  {
   "cell_type": "code",
   "execution_count": 23,
   "id": "0d5aca00-755d-46f4-a5d7-0401861cfb33",
   "metadata": {
    "tags": []
   },
   "outputs": [
    {
     "data": {
      "image/png": "[encoded data removed]",
      "text/plain": [
       "<Figure size 800x600 with 1 Axes>"
      ]
     },
     "metadata": {},
     "output_type": "display_data"
    }
   ],
   "source": [
    "# Scatter plot of sentiment score vs user rating\n",
    "plt.figure(figsize=(8, 6))\n",
    "sns.scatterplot(x='Score', y='Sentiment', data=reviewf, alpha=1)\n",
    "plt.title('Sentiment Score vs User Rating')\n",
    "plt.xlabel('User Rating')\n",
    "plt.ylabel('Sentiment Score')\n",
    "plt.show()"
   ]
  },
  {
   "cell_type": "code",
   "execution_count": 24,
   "id": "33defb74-99df-40ec-bddc-454b974e0fc8",
   "metadata": {
    "tags": []
   },
   "outputs": [
    {
     "data": {
      "image/png": "[encoded data removed]",
      "text/plain": [
       "<Figure size 800x600 with 1 Axes>"
      ]
     },
     "metadata": {},
     "output_type": "display_data"
    }
   ],
   "source": [
    "# Plot average user rating per sentiment score\n",
    "avg_user_rating = reviewf.groupby('Sentiment')['Score'].mean().reset_index()\n",
    "plt.figure(figsize=(8, 6))\n",
    "sns.barplot(x='Sentiment', y='Score', data=avg_user_rating)\n",
    "plt.title('Average User Rating per Sentiment Category')\n",
    "plt.xlabel('Sentiment')\n",
    "plt.ylabel('Average User Rating')\n",
    "plt.show()"
   ]
  },
  {
   "cell_type": "code",
   "execution_count": 25,
   "id": "0e599784-f483-4d5c-9ec9-141bb182e439",
   "metadata": {
    "tags": []
   },
   "outputs": [
    {
     "data": {
      "image/png": "[encoded data removed]",
      "text/plain": [
       "<Figure size 1200x800 with 1 Axes>"
      ]
     },
     "metadata": {},
     "output_type": "display_data"
    }
   ],
   "source": [
    "#To display most liked product based on positive sentiment\n",
    "# Positive sentiments\n",
    "reviewf['Sentiment'] = reviewf['Sentiment'].astype(int) #type casting\n",
    "positive_reviews = reviewf[reviewf['Sentiment'] == 1]\n",
    "\n",
    "# Counting positive sentiments for each ProductId\n",
    "if not positive_reviews.empty:\n",
    "    positive_count = positive_reviews.groupby('ProductId').size().reset_index(name='PositiveCount')\n",
    "\n",
    "# To sort and select the top 20 product ids\n",
    "    top_n = 20\n",
    "    top_positive_products = positive_count.sort_values(by='PositiveCount', ascending=False).head(top_n)\n",
    "else: \n",
    "    print(\"No positive sentiments found in the dataset.\")\n",
    "# Plots\n",
    "plt.figure(figsize=(12, 8))\n",
    "sns.barplot(x='PositiveCount', y='ProductId', data=top_positive_products)\n",
    "plt.title(f'Top {top_n} Products with Most Positive Sentiments')\n",
    "plt.xlabel('Number of Positive Sentiments')\n",
    "plt.ylabel('ProductId')\n",
    "plt.show()"
   ]
  },
  {
   "cell_type": "code",
   "execution_count": 26,
   "id": "fff704a9-810b-430e-8ab4-ca7a7816a343",
   "metadata": {
    "tags": []
   },
   "outputs": [
    {
     "data": {
      "image/png": "[encoded data removed]",
      "text/plain": [
       "<Figure size 1200x800 with 1 Axes>"
      ]
     },
     "metadata": {},
     "output_type": "display_data"
    }
   ],
   "source": [
    "#To display most disliked product based on positive sentiment\n",
    "# Negative sentiments\n",
    "reviewf['Sentiment'] = reviewf['Sentiment'].astype(int) #type casting\n",
    "negative_reviews = reviewf[reviewf['Sentiment'] == 0]\n",
    "\n",
    "# Counting positive sentiments for each ProductId\n",
    "n_count = negative_reviews.groupby('ProductId').size().reset_index(name='NegativeCount')\n",
    "top_n = 20\n",
    "top_n_products = n_count.sort_values(by='NegativeCount', ascending=False).head(top_n)\n",
    "\n",
    "plt.figure(figsize=(12, 8))\n",
    "sns.barplot(x='NegativeCount', y='ProductId', data=top_n_products)\n",
    "plt.title(f'Top {top_n} Products with Most Negative Sentiments')\n",
    "plt.xlabel('Number of Negative Sentiments')\n",
    "plt.ylabel('ProductId')\n",
    "plt.show()"
   ]
  },
  {
   "cell_type": "code",
   "execution_count": 27,
   "id": "a04d0d80-451d-483e-9bfc-9c657f5c4220",
   "metadata": {
    "tags": []
   },
   "outputs": [
    {
     "name": "stdout",
     "output_type": "stream",
     "text": [
      "1    153402\n",
      "0     42715\n",
      "Name: Sentiment, dtype: int64\n",
      "1    42715\n",
      "0    42715\n",
      "Name: Sentiment, dtype: int64\n"
     ]
    }
   ],
   "source": [
    "#Positive reviews outweight negative by \n",
    "# Separate the majority and minority classes\n",
    "df_majority = reviewf[reviewf.Sentiment == 1]\n",
    "df_minority = reviewf[reviewf.Sentiment == 0]\n",
    "# Downsampling Positive sentiment class to match Negative sentiment class\n",
    "df_majority_downsampled = resample(df_majority, replace=False, n_samples=len(df_minority), random_state=123)\n",
    "# Combining minority class with downsampled majority class\n",
    "df_balanced = pd.concat([df_majority_downsampled, df_minority])\n",
    "# To display class counts, before and after sampling \n",
    "print(reviewf.Sentiment.value_counts())\n",
    "print(df_balanced.Sentiment.value_counts())"
   ]
  },
  {
   "cell_type": "raw",
   "id": "5bde1abd-f8ab-4741-b2b6-f4c726278254",
   "metadata": {},
   "source": [
    "Tokenization of Text data"
   ]
  },
  {
   "cell_type": "code",
   "execution_count": 28,
   "id": "0dacfeb1-10e2-46e9-b9b6-4eb4306586ae",
   "metadata": {
    "tags": []
   },
   "outputs": [
    {
     "name": "stdout",
     "output_type": "stream",
     "text": [
      "        word  frequency\n",
      "32      like      41485\n",
      "17      good      28869\n",
      "31     taste      28582\n",
      "117      one      27027\n",
      "40   product      25626\n",
      "30    coffee      25182\n",
      "114   flavor      23000\n",
      "48     would      22269\n",
      "29     great      19852\n",
      "72      food      19812\n"
     ]
    }
   ],
   "source": [
    "stop_words = set(stopwords.words('english'))\n",
    "\n",
    "def preprocess_text(text):\n",
    "    # Removing HTML tags, punctuation using regex and then tokenize\n",
    "    text = re.sub(r'<.*?>', ' ', text)\n",
    "    text = re.sub(r'[^\\w\\s]', '', text)\n",
    "    tokens = word_tokenize(text)\n",
    "    filtered_tokens = [word.lower() for word in tokens if word.lower() not in stop_words and word.isalpha()]\n",
    "    return filtered_tokens\n",
    "\n",
    "\n",
    "# Applying  preprocessing to the text column\n",
    "df_balanced['Processed_Text'] = df_balanced['Text'].apply(preprocess_text)\n",
    "all_words = [word for tokens in df_balanced['Processed_Text'] for word in tokens] #to compute the word frequencies again\n",
    "word_freq = Counter(all_words)\n",
    "\n",
    "# Converting DataFrame for easier analysis and sorting by frequency and display the top words\n",
    "freq_df = pd.DataFrame(word_freq.items(), columns=['word', 'frequency'])\n",
    "top_words = freq_df.sort_values(by='frequency', ascending=False).head(10)\n",
    "print(top_words)"
   ]
  },
  {
   "cell_type": "code",
   "execution_count": 29,
   "id": "44c77ec0-88ff-485d-ac2e-eec1b24b6cf4",
   "metadata": {
    "tags": []
   },
   "outputs": [
    {
     "data": {
      "text/html": [
       "<div>\n",
       "<style scoped>\n",
       "    .dataframe tbody tr th:only-of-type {\n",
       "        vertical-align: middle;\n",
       "    }\n",
       "\n",
       "    .dataframe tbody tr th {\n",
       "        vertical-align: top;\n",
       "    }\n",
       "\n",
       "    .dataframe thead th {\n",
       "        text-align: right;\n",
       "    }\n",
       "</style>\n",
       "<table border=\"1\" class=\"dataframe\">\n",
       "  <thead>\n",
       "    <tr style=\"text-align: right;\">\n",
       "      <th></th>\n",
       "      <th>ProductId</th>\n",
       "      <th>Score</th>\n",
       "      <th>Text</th>\n",
       "      <th>Sentiment</th>\n",
       "      <th>Processed_Text</th>\n",
       "    </tr>\n",
       "  </thead>\n",
       "  <tbody>\n",
       "    <tr>\n",
       "      <th>89218</th>\n",
       "      <td>B0018R0MOI</td>\n",
       "      <td>5</td>\n",
       "      <td>I LOVE this popcorn!  I am on a gluten free di...</td>\n",
       "      <td>1</td>\n",
       "      <td>[love, popcorn, gluten, free, diet, sweet, sna...</td>\n",
       "    </tr>\n",
       "    <tr>\n",
       "      <th>435340</th>\n",
       "      <td>B004JNQMMO</td>\n",
       "      <td>5</td>\n",
       "      <td>Good tasting granola.  Seems to be gluten-free...</td>\n",
       "      <td>1</td>\n",
       "      <td>[good, tasting, granola, seems, glutenfree, ce...</td>\n",
       "    </tr>\n",
       "    <tr>\n",
       "      <th>204347</th>\n",
       "      <td>B006N3I79Y</td>\n",
       "      <td>5</td>\n",
       "      <td>This is a great tasting coffee. It does not ta...</td>\n",
       "      <td>1</td>\n",
       "      <td>[great, tasting, coffee, taste, like, decaf, f...</td>\n",
       "    </tr>\n",
       "  </tbody>\n",
       "</table>\n",
       "</div>"
      ],
      "text/plain": [
       "         ProductId  Score                                               Text  \\\n",
       "89218   B0018R0MOI      5  I LOVE this popcorn!  I am on a gluten free di...   \n",
       "435340  B004JNQMMO      5  Good tasting granola.  Seems to be gluten-free...   \n",
       "204347  B006N3I79Y      5  This is a great tasting coffee. It does not ta...   \n",
       "\n",
       "        Sentiment                                     Processed_Text  \n",
       "89218           1  [love, popcorn, gluten, free, diet, sweet, sna...  \n",
       "435340          1  [good, tasting, granola, seems, glutenfree, ce...  \n",
       "204347          1  [great, tasting, coffee, taste, like, decaf, f...  "
      ]
     },
     "execution_count": 29,
     "metadata": {},
     "output_type": "execute_result"
    }
   ],
   "source": [
    "#2 copies, one for Word2Vec and one for TF-IDF\n",
    "df_balanced2 = df_balanced.copy() #will be used for TF-IDF"
   ]
  },
  {
   "cell_type": "code",
   "execution_count": 30,
   "id": "d0c8afa2-d89c-49ed-aebd-44a645ac04dc",
   "metadata": {
    "tags": []
   },
   "outputs": [],
   "source": [
    "#TF-IDF Vectorizer\n",
    "tfidf_vectorizer = TfidfVectorizer(max_features=2000, ngram_range=(1, 1), min_df=2, max_df=0.8, stop_words='english')\n",
    "\n",
    "# Fit and transform the 'Text' column\n",
    "X_tfidf = tfidf_vectorizer.fit_transform(df_balanced2['Text'])\n",
    "\n",
    "# Converting to dataframe\n",
    "tfidf_df = pd.DataFrame(X_tfidf.toarray(), columns=tfidf_vectorizer.get_feature_names_out())\n",
    "df_balanced2 = pd.concat([df_balanced2.reset_index(drop=True), tfidf_df.reset_index(drop=True)], axis=1)"
   ]
  },
  {
   "cell_type": "code",
   "execution_count": 31,
   "id": "da2c4628-73ff-4672-973c-6e1948d53896",
   "metadata": {
    "tags": []
   },
   "outputs": [
    {
     "name": "stdout",
     "output_type": "stream",
     "text": [
      "['00' '10' '100' ... 'yummy' 'zero' 'zico']\n"
     ]
    }
   ],
   "source": [
    "# List of TF-IDF feature names\n",
    "tfidf_feature_names = tfidf_vectorizer.get_feature_names_out()\n",
    "print(tfidf_feature_names)"
   ]
  },
  {
   "cell_type": "code",
   "execution_count": 33,
   "id": "4ddf03a7-fe01-45b0-adfd-79fd1c9b67c9",
   "metadata": {
    "tags": []
   },
   "outputs": [],
   "source": [
    "# Setting parameters for Word2Vec, setting word vector size, the context window size and word threshold; vs, w and mint were set as suggested on website\n",
    "vs = 100 \n",
    "w = 5        \n",
    "mint = 1      \n",
    "\n",
    "# Training vector model, paramters as above\n",
    "w2v_model = Word2Vec(sentences=df_balanced['Processed_Text'], vector_size=vs, window=w, min_count=mint)\n",
    "\n",
    "# vector for one word using our trained model\n",
    "word_vector = w2v_model.wv['bad']"
   ]
  },
  {
   "cell_type": "code",
   "execution_count": 34,
   "id": "1eec3dfd-d8e1-4a33-a7fb-56354ad6c26b",
   "metadata": {
    "tags": []
   },
   "outputs": [
    {
     "name": "stdout",
     "output_type": "stream",
     "text": [
      "[-0.84248424 -0.5449964  -0.05959362  2.3161383  -0.18576407 -0.5389829\n",
      "  1.3834782   0.30554977  0.30967054 -0.1632301  -0.6207537   1.254618\n",
      "  1.5022864   1.1753756  -1.1734011   1.0174811  -1.2868204   0.26674244\n",
      " -2.4424732  -2.6500726  -0.5048847   0.38813642 -0.0821401   0.5368322\n",
      "  1.2421658  -1.035485   -1.2296098   0.88751096  0.33096436  0.06860986\n",
      "  0.5868278  -1.1503795  -0.678771    0.61749965  0.14775236  1.2304645\n",
      "  2.0033815   2.4834342  -1.0352434   1.7478837  -1.3209865  -1.1330199\n",
      " -2.1707675  -1.8838603   1.2568194   0.1331491  -0.219947    1.7847086\n",
      " -1.4621851   1.9201788   1.715653    0.24703154 -0.0558585  -1.088556\n",
      " -2.3014755  -1.5007383   1.1069916   0.41857928  2.2057126   1.574575\n",
      " -1.8258109  -1.0616175   0.2627978  -2.305236    0.8698048  -0.5395034\n",
      " -0.42469552  1.5820329  -0.16492927  0.80618626 -0.5775054   0.5482282\n",
      "  1.2596751   1.0810913  -1.7352524  -2.7471716  -0.92282385 -0.43399975\n",
      " -1.9725562   0.64381754 -0.4624004   2.1715598   1.1838893   1.1265199\n",
      " -1.66258     0.46904802 -1.541801   -1.8930987   0.9536836   2.109999\n",
      "  1.4308001   0.5097646   1.8277581  -0.78971833 -0.96839666  1.4312807\n",
      "  0.6768496  -1.7612232  -2.0166752  -1.1559166 ]\n"
     ]
    }
   ],
   "source": [
    "print(word_vector)"
   ]
  },
  {
   "cell_type": "raw",
   "id": "2510038d-43c7-4e76-a203-506aee0e434e",
   "metadata": {},
   "source": [
    "Creating feature and target matrix"
   ]
  },
  {
   "cell_type": "code",
   "execution_count": 32,
   "id": "08037a5d-aefd-4184-9e11-f82b5f4ad363",
   "metadata": {
    "tags": []
   },
   "outputs": [],
   "source": [
    "#Feature and target matrix for dataframe which is vectorized using TF-IDF\n",
    "X1 = df_balanced2[tfidf_feature_names]\n",
    "y1 = df_balanced2['Sentiment']"
   ]
  },
  {
   "cell_type": "code",
   "execution_count": 36,
   "id": "613a1031-19b2-4777-abf9-75cf1853a6bf",
   "metadata": {
    "tags": []
   },
   "outputs": [],
   "source": [
    "def document_vector(w2v_model, doc):\n",
    "    doc = [word for word in doc if word in w2v_model.wv]\n",
    "    if not doc:\n",
    "        return np.zeros(vs)\n",
    "    return np.mean(w2v_model.wv[doc], axis=0)\n",
    "\n",
    "# Apply the function to each document in the dataframe\n",
    "df_balanced['Doc_Vector'] = df_balanced['Processed_Text'].apply(lambda x: document_vector(w2v_model, x))\n",
    "\n",
    "# Prepare the feature matrix X and target vector y\n",
    "X = np.array(df_balanced['Doc_Vector'].tolist())\n",
    "y = df_balanced['Sentiment'].values"
   ]
  },
  {
   "cell_type": "raw",
   "id": "85f0a193-a850-4e0d-b285-c1ecb4faed79",
   "metadata": {},
   "source": [
    "Splitting data to training and testing set"
   ]
  },
  {
   "cell_type": "code",
   "execution_count": 37,
   "id": "3591358e-c9b6-47f0-b9c3-eaed507f37e0",
   "metadata": {
    "tags": []
   },
   "outputs": [],
   "source": [
    "#X1 and y1 from df_balanced2 which is vectorized using TF-IDF\n",
    "X1_train, X1_test, y1_train, y1_test = train_test_split(X1, y1, test_size=0.25, random_state=42)"
   ]
  },
  {
   "cell_type": "code",
   "execution_count": 38,
   "id": "29f2c7be-09c6-4d10-8a63-90d09b181733",
   "metadata": {
    "tags": []
   },
   "outputs": [],
   "source": [
    "#X and y from df_balanced which is vectorized using Word2Vec\n",
    "X_train, X_test, y_train, y_test = train_test_split(X, y, test_size=0.25, random_state=42)"
   ]
  },
  {
   "cell_type": "raw",
   "id": "c787e381-a2be-472e-b929-416480e057a6",
   "metadata": {},
   "source": [
    "Naive Bayes Model"
   ]
  },
  {
   "cell_type": "code",
   "execution_count": 39,
   "id": "930d022b-4611-401d-b3fd-4b724e415d2f",
   "metadata": {
    "tags": []
   },
   "outputs": [
    {
     "name": "stdout",
     "output_type": "stream",
     "text": [
      "Classification Report:\n",
      "               precision    recall  f1-score   support\n",
      "\n",
      "           0       0.78      0.75      0.77     10658\n",
      "           1       0.76      0.79      0.78     10700\n",
      "\n",
      "    accuracy                           0.77     21358\n",
      "   macro avg       0.77      0.77      0.77     21358\n",
      "weighted avg       0.77      0.77      0.77     21358\n",
      "\n",
      "Accuracy: 0.770530948590692\n"
     ]
    }
   ],
   "source": [
    "gnb = GaussianNB()\n",
    "label_encoder = LabelEncoder()\n",
    "gnb.fit(X1_train, y1_train)\n",
    "y1_pred = gnb.predict(X1_test)\n",
    "\n",
    "print(\"Classification Report:\\n\", classification_report(y1_test, y1_pred))\n",
    "print(\"Accuracy:\", accuracy_score(y1_test, y1_pred))"
   ]
  },
  {
   "cell_type": "raw",
   "id": "679fa01b-364e-4368-986e-2cd56497d0fc",
   "metadata": {},
   "source": [
    "Multinomial NB"
   ]
  },
  {
   "cell_type": "code",
   "execution_count": 41,
   "id": "b85ef8c0-b01f-4f6b-9b1d-919c857f4cde",
   "metadata": {
    "tags": []
   },
   "outputs": [
    {
     "name": "stdout",
     "output_type": "stream",
     "text": [
      "Classification Report:\n",
      "               precision    recall  f1-score   support\n",
      "\n",
      "           0       0.82      0.81      0.82     10658\n",
      "           1       0.81      0.83      0.82     10700\n",
      "\n",
      "    accuracy                           0.82     21358\n",
      "   macro avg       0.82      0.82      0.82     21358\n",
      "weighted avg       0.82      0.82      0.82     21358\n",
      "\n",
      "Accuracy: 0.8191310047757281\n"
     ]
    }
   ],
   "source": [
    "mnb = MultinomialNB()\n",
    "mnb.fit(X1_train, y1_train)\n",
    "\n",
    "# Predicting using trained model and checking accuracy and classification report\n",
    "y1_pred = mnb.predict(X1_test)\n",
    "print(\"Classification Report:\\n\", classification_report(y1_test, y1_pred))\n",
    "accuracy = accuracy_score(y1_test, y1_pred)\n",
    "print(\"Accuracy:\", accuracy)"
   ]
  },
  {
   "cell_type": "code",
   "execution_count": 42,
   "id": "d08c24dd-c4b1-48d5-949e-55609a5d048c",
   "metadata": {
    "tags": []
   },
   "outputs": [
    {
     "name": "stdout",
     "output_type": "stream",
     "text": [
      "Fitting 5 folds for each of 6 candidates, totalling 30 fits\n"
     ]
    },
    {
     "data": {
      "text/html": [
       "<style>#sk-container-id-1 {color: black;}#sk-container-id-1 pre{padding: 0;}#sk-container-id-1 div.sk-toggleable {background-color: white;}#sk-container-id-1 label.sk-toggleable__label {cursor: pointer;display: block;width: 100%;margin-bottom: 0;padding: 0.3em;box-sizing: border-box;text-align: center;}#sk-container-id-1 label.sk-toggleable__label-arrow:before {content: \"▸\";float: left;margin-right: 0.25em;color: #696969;}#sk-container-id-1 label.sk-toggleable__label-arrow:hover:before {color: black;}#sk-container-id-1 div.sk-estimator:hover label.sk-toggleable__label-arrow:before {color: black;}#sk-container-id-1 div.sk-toggleable__content {max-height: 0;max-width: 0;overflow: hidden;text-align: left;background-color: #f0f8ff;}#sk-container-id-1 div.sk-toggleable__content pre {margin: 0.2em;color: black;border-radius: 0.25em;background-color: #f0f8ff;}#sk-container-id-1 input.sk-toggleable__control:checked~div.sk-toggleable__content {max-height: 200px;max-width: 100%;overflow: auto;}#sk-container-id-1 input.sk-toggleable__control:checked~label.sk-toggleable__label-arrow:before {content: \"▾\";}#sk-container-id-1 div.sk-estimator input.sk-toggleable__control:checked~label.sk-toggleable__label {background-color: #d4ebff;}#sk-container-id-1 div.sk-label input.sk-toggleable__control:checked~label.sk-toggleable__label {background-color: #d4ebff;}#sk-container-id-1 input.sk-hidden--visually {border: 0;clip: rect(1px 1px 1px 1px);clip: rect(1px, 1px, 1px, 1px);height: 1px;margin: -1px;overflow: hidden;padding: 0;position: absolute;width: 1px;}#sk-container-id-1 div.sk-estimator {font-family: monospace;background-color: #f0f8ff;border: 1px dotted black;border-radius: 0.25em;box-sizing: border-box;margin-bottom: 0.5em;}#sk-container-id-1 div.sk-estimator:hover {background-color: #d4ebff;}#sk-container-id-1 div.sk-parallel-item::after {content: \"\";width: 100%;border-bottom: 1px solid gray;flex-grow: 1;}#sk-container-id-1 div.sk-label:hover label.sk-toggleable__label {background-color: #d4ebff;}#sk-container-id-1 div.sk-serial::before {content: \"\";position: absolute;border-left: 1px solid gray;box-sizing: border-box;top: 0;bottom: 0;left: 50%;z-index: 0;}#sk-container-id-1 div.sk-serial {display: flex;flex-direction: column;align-items: center;background-color: white;padding-right: 0.2em;padding-left: 0.2em;position: relative;}#sk-container-id-1 div.sk-item {position: relative;z-index: 1;}#sk-container-id-1 div.sk-parallel {display: flex;align-items: stretch;justify-content: center;background-color: white;position: relative;}#sk-container-id-1 div.sk-item::before, #sk-container-id-1 div.sk-parallel-item::before {content: \"\";position: absolute;border-left: 1px solid gray;box-sizing: border-box;top: 0;bottom: 0;left: 50%;z-index: -1;}#sk-container-id-1 div.sk-parallel-item {display: flex;flex-direction: column;z-index: 1;position: relative;background-color: white;}#sk-container-id-1 div.sk-parallel-item:first-child::after {align-self: flex-end;width: 50%;}#sk-container-id-1 div.sk-parallel-item:last-child::after {align-self: flex-start;width: 50%;}#sk-container-id-1 div.sk-parallel-item:only-child::after {width: 0;}#sk-container-id-1 div.sk-dashed-wrapped {border: 1px dashed gray;margin: 0 0.4em 0.5em 0.4em;box-sizing: border-box;padding-bottom: 0.4em;background-color: white;}#sk-container-id-1 div.sk-label label {font-family: monospace;font-weight: bold;display: inline-block;line-height: 1.2em;}#sk-container-id-1 div.sk-label-container {text-align: center;}#sk-container-id-1 div.sk-container {/* jupyter's `normalize.less` sets `[hidden] { display: none; }` but bootstrap.min.css set `[hidden] { display: none !important; }` so we also need the `!important` here to be able to override the default hidden behavior on the sphinx rendered scikit-learn.org. See: https://github.com/scikit-learn/scikit-learn/issues/21755 */display: inline-block !important;position: relative;}#sk-container-id-1 div.sk-text-repr-fallback {display: none;}</style><div id=\"sk-container-id-1\" class=\"sk-top-container\"><div class=\"sk-text-repr-fallback\"><pre>GridSearchCV(cv=5, estimator=MultinomialNB(),\n",
       "             param_grid={&#x27;alpha&#x27;: [0.001, 0.01, 0.1, 1, 10, 100]},\n",
       "             scoring=&#x27;accuracy&#x27;, verbose=1)</pre><b>In a Jupyter environment, please rerun this cell to show the HTML representation or trust the notebook. <br />On GitHub, the HTML representation is unable to render, please try loading this page with nbviewer.org.</b></div><div class=\"sk-container\" hidden><div class=\"sk-item sk-dashed-wrapped\"><div class=\"sk-label-container\"><div class=\"sk-label sk-toggleable\"><input class=\"sk-toggleable__control sk-hidden--visually\" id=\"sk-estimator-id-1\" type=\"checkbox\" ><label for=\"sk-estimator-id-1\" class=\"sk-toggleable__label sk-toggleable__label-arrow\">GridSearchCV</label><div class=\"sk-toggleable__content\"><pre>GridSearchCV(cv=5, estimator=MultinomialNB(),\n",
       "             param_grid={&#x27;alpha&#x27;: [0.001, 0.01, 0.1, 1, 10, 100]},\n",
       "             scoring=&#x27;accuracy&#x27;, verbose=1)</pre></div></div></div><div class=\"sk-parallel\"><div class=\"sk-parallel-item\"><div class=\"sk-item\"><div class=\"sk-label-container\"><div class=\"sk-label sk-toggleable\"><input class=\"sk-toggleable__control sk-hidden--visually\" id=\"sk-estimator-id-2\" type=\"checkbox\" ><label for=\"sk-estimator-id-2\" class=\"sk-toggleable__label sk-toggleable__label-arrow\">estimator: MultinomialNB</label><div class=\"sk-toggleable__content\"><pre>MultinomialNB()</pre></div></div></div><div class=\"sk-serial\"><div class=\"sk-item\"><div class=\"sk-estimator sk-toggleable\"><input class=\"sk-toggleable__control sk-hidden--visually\" id=\"sk-estimator-id-3\" type=\"checkbox\" ><label for=\"sk-estimator-id-3\" class=\"sk-toggleable__label sk-toggleable__label-arrow\">MultinomialNB</label><div class=\"sk-toggleable__content\"><pre>MultinomialNB()</pre></div></div></div></div></div></div></div></div></div></div>"
      ],
      "text/plain": [
       "GridSearchCV(cv=5, estimator=MultinomialNB(),\n",
       "             param_grid={'alpha': [0.001, 0.01, 0.1, 1, 10, 100]},\n",
       "             scoring='accuracy', verbose=1)"
      ]
     },
     "execution_count": 42,
     "metadata": {},
     "output_type": "execute_result"
    }
   ],
   "source": [
    "#Grid Search for MultiNomial NB\n",
    "#Grid Search Array\n",
    "param_grid = {'alpha': [0.001, 0.01, 0.1, 1, 10, 100]}\n",
    "grid_search = GridSearchCV(mnb, param_grid, cv=5, scoring='accuracy', verbose=1)\n",
    "grid_search.fit(X1_train, y1_train)"
   ]
  },
  {
   "cell_type": "code",
   "execution_count": 43,
   "id": "4c6ea0f3-ef23-4c57-9512-221b8027b60f",
   "metadata": {
    "tags": []
   },
   "outputs": [
    {
     "name": "stdout",
     "output_type": "stream",
     "text": [
      "Best Parameters:  {'alpha': 10}\n",
      "              precision    recall  f1-score   support\n",
      "\n",
      "           0       0.83      0.80      0.82     10658\n",
      "           1       0.81      0.84      0.82     10700\n",
      "\n",
      "    accuracy                           0.82     21358\n",
      "   macro avg       0.82      0.82      0.82     21358\n",
      "weighted avg       0.82      0.82      0.82     21358\n",
      "\n",
      "Accuracy: 0.820161063770016\n"
     ]
    }
   ],
   "source": [
    "print(\"Parameters from GridSearch: \", grid_search.best_params_)\n",
    "#Predicting and Classification report and accuracy scores\n",
    "best_mnb = grid_search.best_estimator_\n",
    "y1_pred = best_mnb.predict(X1_test)\n",
    "from sklearn.metrics import classification_report, accuracy_score\n",
    "print(classification_report(y1_test, y1_pred))\n",
    "print(\"Accuracy:\", accuracy_score(y1_test, y1_pred))"
   ]
  },
  {
   "cell_type": "raw",
   "id": "26694f74-135a-4015-8055-fdddc6f8918e",
   "metadata": {},
   "source": [
    "Logistic Regression"
   ]
  },
  {
   "cell_type": "code",
   "execution_count": 44,
   "id": "4cf7d638-3c87-4f40-a9da-ed6128af5988",
   "metadata": {
    "tags": []
   },
   "outputs": [
    {
     "name": "stdout",
     "output_type": "stream",
     "text": [
      "Default Model Accuracy: 0.8391703343009645\n"
     ]
    }
   ],
   "source": [
    "default_logreg = LogisticRegression(random_state=42)\n",
    "default_logreg.fit(X1_train, y1_train)\n",
    "# Evaluating default model\n",
    "y1_pred_default = default_logreg.predict(X1_test)\n",
    "accuracy_default = accuracy_score(y1_test, y1_pred_default)\n",
    "print(\"Default Model Accuracy:\", accuracy_default)\n",
    "from sklearn.metrics import roc_auc_score\n",
    "y1_test_bin = label_binarize(y1_test, classes=np.unique(y1_train))\n",
    "y1_pred_proba_default = default_logreg.predict_proba(X1_test)"
   ]
  },
  {
   "cell_type": "code",
   "execution_count": 119,
   "id": "1bbbffb8-12ef-422a-a2d0-0f603b6d8673",
   "metadata": {
    "tags": []
   },
   "outputs": [
    {
     "name": "stdout",
     "output_type": "stream",
     "text": [
      "              precision    recall  f1-score   support\n",
      "\n",
      "           0       0.84      0.84      0.84     10658\n",
      "           1       0.84      0.84      0.84     10700\n",
      "\n",
      "    accuracy                           0.84     21358\n",
      "   macro avg       0.84      0.84      0.84     21358\n",
      "weighted avg       0.84      0.84      0.84     21358\n",
      "\n"
     ]
    }
   ],
   "source": [
    "print(classification_report(y1_test, y1_pred_default))"
   ]
  },
  {
   "cell_type": "code",
   "execution_count": 45,
   "id": "bcfa9073-0119-4754-b987-d03d698e5ef9",
   "metadata": {
    "tags": []
   },
   "outputs": [
    {
     "name": "stdout",
     "output_type": "stream",
     "text": [
      "Default Model ROC AUC Score: 0.9161581138647115\n"
     ]
    }
   ],
   "source": [
    "y1_pred_proba_default = default_logreg.predict_proba(X1_test)[:, 1]\n",
    "roc_auc_default = roc_auc_score(y1_test, y1_pred_proba_default)\n",
    "\n",
    "print(\"Default Model ROC AUC Score:\", roc_auc_default)"
   ]
  },
  {
   "cell_type": "raw",
   "id": "07310eef-d351-4881-a638-62d7f7311e3c",
   "metadata": {},
   "source": [
    "Grid Search for Logistic Regression (Takes time to compute, use C=1, max_iter=1000,multi_class='ovr', random_state=42)"
   ]
  },
  {
   "cell_type": "code",
   "execution_count": null,
   "id": "8b48dd7a-a972-4c51-88c3-f449a417e518",
   "metadata": {
    "tags": []
   },
   "outputs": [],
   "source": [
    "param_grid_logreg = {\n",
    "    'C': [0.01, 0.1, 1, 10],\n",
    "    'max_iter': [1000, 2000, 3000, 5000]\n",
    "}\n",
    "\n",
    "#GridSearchCV with Logistic Regression\n",
    "grid_search_logreg = GridSearchCV(LogisticRegression(random_state=42), param_grid_logreg, cv=3, scoring='accuracy', verbose=1)\n",
    "grid_search_logreg.fit(X1_train, y1_train)\n",
    "best_params = grid_search_logreg.best_params_\n",
    "print(\"Best parameters for Logistic Regression: \", best_params)"
   ]
  },
  {
   "cell_type": "code",
   "execution_count": 118,
   "id": "0b879141-76f0-4d13-abcd-3e2ed4a67109",
   "metadata": {
    "tags": []
   },
   "outputs": [
    {
     "name": "stdout",
     "output_type": "stream",
     "text": [
      "Optimized Model Accuracy: 0.8391703343009645\n",
      "              precision    recall  f1-score   support\n",
      "\n",
      "           0       0.84      0.84      0.84     10658\n",
      "           1       0.84      0.84      0.84     10700\n",
      "\n",
      "    accuracy                           0.84     21358\n",
      "   macro avg       0.84      0.84      0.84     21358\n",
      "weighted avg       0.84      0.84      0.84     21358\n",
      "\n"
     ]
    }
   ],
   "source": [
    "#optimized_logreg = LogisticRegression(C=best_params['C'], max_iter=best_params['max_iter'],multi_class='ovr', random_state=42)\n",
    "optimized_logreg = LogisticRegression(C=1, max_iter=1000,multi_class='ovr', random_state=42)\n",
    "\n",
    "optimized_logreg.fit(X1_train, y1_train)\n",
    "y1_pred_optimized = optimized_logreg.predict(X1_test)\n",
    "accuracy_optimized = accuracy_score(y1_test, y1_pred_optimized)\n",
    "print(\"Optimized Model Accuracy:\", accuracy_optimized)\n",
    "print(classification_report(y1_test, y1_pred_optimized))"
   ]
  },
  {
   "cell_type": "code",
   "execution_count": 47,
   "id": "41422fb0-8ed1-4dd8-b58b-a8bd3eff626b",
   "metadata": {
    "tags": []
   },
   "outputs": [
    {
     "name": "stdout",
     "output_type": "stream",
     "text": [
      "Optimized Model ROC AUC Score: 0.9161581138647115\n"
     ]
    }
   ],
   "source": [
    "y1_pred_proba_optimized = optimized_logreg.predict_proba(X1_test)[:, 1]\n",
    "roc_auc_default = roc_auc_score(y1_test, y1_pred_proba_optimized)\n",
    "print(\"Optimized Model ROC AUC Score:\", roc_auc_default)"
   ]
  },
  {
   "cell_type": "raw",
   "id": "56a2dada-bffb-484d-a851-ca71c146bd5d",
   "metadata": {},
   "source": [
    "Support Vector Machine"
   ]
  },
  {
   "cell_type": "code",
   "execution_count": 48,
   "id": "5fb08d4a-792b-495b-a95f-298b787ea4ba",
   "metadata": {
    "tags": []
   },
   "outputs": [
    {
     "name": "stderr",
     "output_type": "stream",
     "text": [
      "/Users/khursheed/anaconda3/lib/python3.11/site-packages/sklearn/svm/_classes.py:32: FutureWarning: The default value of `dual` will change from `True` to `'auto'` in 1.5. Set the value of `dual` explicitly to suppress the warning.\n",
      "  warnings.warn(\n"
     ]
    },
    {
     "name": "stdout",
     "output_type": "stream",
     "text": [
      "Accuracy of Linear SVM model: 0.8394044386178481\n",
      "              precision    recall  f1-score   support\n",
      "\n",
      "           0       0.84      0.84      0.84     10658\n",
      "           1       0.84      0.84      0.84     10700\n",
      "\n",
      "    accuracy                           0.84     21358\n",
      "   macro avg       0.84      0.84      0.84     21358\n",
      "weighted avg       0.84      0.84      0.84     21358\n",
      "\n"
     ]
    }
   ],
   "source": [
    "linear_svm = LinearSVC(C=1, random_state=42)\n",
    "linear_svm.fit(X1_train, y1_train)\n",
    "y1_pred_linear = linear_svm.predict(X1_test)\n",
    "accuracy_linear = accuracy_score(y1_test, y1_pred_linear)\n",
    "print(\"Accuracy of Linear SVM model:\", accuracy_linear)\n",
    "print(classification_report(y1_test, y1_pred_linear))"
   ]
  },
  {
   "cell_type": "code",
   "execution_count": 49,
   "id": "b9fbd3c4-6aea-4e0a-89e4-3ea24916ce6d",
   "metadata": {
    "tags": []
   },
   "outputs": [
    {
     "name": "stdout",
     "output_type": "stream",
     "text": [
      "Fitting 3 folds for each of 5 candidates, totalling 15 fits\n"
     ]
    },
    {
     "name": "stderr",
     "output_type": "stream",
     "text": [
      "/Users/khursheed/anaconda3/lib/python3.11/site-packages/sklearn/svm/_classes.py:32: FutureWarning: The default value of `dual` will change from `True` to `'auto'` in 1.5. Set the value of `dual` explicitly to suppress the warning.\n",
      "  warnings.warn(\n",
      "/Users/khursheed/anaconda3/lib/python3.11/site-packages/sklearn/svm/_classes.py:32: FutureWarning: The default value of `dual` will change from `True` to `'auto'` in 1.5. Set the value of `dual` explicitly to suppress the warning.\n",
      "  warnings.warn(\n",
      "/Users/khursheed/anaconda3/lib/python3.11/site-packages/sklearn/svm/_classes.py:32: FutureWarning: The default value of `dual` will change from `True` to `'auto'` in 1.5. Set the value of `dual` explicitly to suppress the warning.\n",
      "  warnings.warn(\n",
      "/Users/khursheed/anaconda3/lib/python3.11/site-packages/sklearn/svm/_classes.py:32: FutureWarning: The default value of `dual` will change from `True` to `'auto'` in 1.5. Set the value of `dual` explicitly to suppress the warning.\n",
      "  warnings.warn(\n",
      "/Users/khursheed/anaconda3/lib/python3.11/site-packages/sklearn/svm/_classes.py:32: FutureWarning: The default value of `dual` will change from `True` to `'auto'` in 1.5. Set the value of `dual` explicitly to suppress the warning.\n",
      "  warnings.warn(\n",
      "/Users/khursheed/anaconda3/lib/python3.11/site-packages/sklearn/svm/_classes.py:32: FutureWarning: The default value of `dual` will change from `True` to `'auto'` in 1.5. Set the value of `dual` explicitly to suppress the warning.\n",
      "  warnings.warn(\n",
      "/Users/khursheed/anaconda3/lib/python3.11/site-packages/sklearn/svm/_classes.py:32: FutureWarning: The default value of `dual` will change from `True` to `'auto'` in 1.5. Set the value of `dual` explicitly to suppress the warning.\n",
      "  warnings.warn(\n",
      "/Users/khursheed/anaconda3/lib/python3.11/site-packages/sklearn/svm/_classes.py:32: FutureWarning: The default value of `dual` will change from `True` to `'auto'` in 1.5. Set the value of `dual` explicitly to suppress the warning.\n",
      "  warnings.warn(\n",
      "/Users/khursheed/anaconda3/lib/python3.11/site-packages/sklearn/svm/_classes.py:32: FutureWarning: The default value of `dual` will change from `True` to `'auto'` in 1.5. Set the value of `dual` explicitly to suppress the warning.\n",
      "  warnings.warn(\n",
      "/Users/khursheed/anaconda3/lib/python3.11/site-packages/sklearn/svm/_classes.py:32: FutureWarning: The default value of `dual` will change from `True` to `'auto'` in 1.5. Set the value of `dual` explicitly to suppress the warning.\n",
      "  warnings.warn(\n",
      "/Users/khursheed/anaconda3/lib/python3.11/site-packages/sklearn/svm/_classes.py:32: FutureWarning: The default value of `dual` will change from `True` to `'auto'` in 1.5. Set the value of `dual` explicitly to suppress the warning.\n",
      "  warnings.warn(\n",
      "/Users/khursheed/anaconda3/lib/python3.11/site-packages/sklearn/svm/_classes.py:32: FutureWarning: The default value of `dual` will change from `True` to `'auto'` in 1.5. Set the value of `dual` explicitly to suppress the warning.\n",
      "  warnings.warn(\n",
      "/Users/khursheed/anaconda3/lib/python3.11/site-packages/sklearn/svm/_classes.py:32: FutureWarning: The default value of `dual` will change from `True` to `'auto'` in 1.5. Set the value of `dual` explicitly to suppress the warning.\n",
      "  warnings.warn(\n",
      "/Users/khursheed/anaconda3/lib/python3.11/site-packages/sklearn/svm/_base.py:1242: ConvergenceWarning: Liblinear failed to converge, increase the number of iterations.\n",
      "  warnings.warn(\n",
      "/Users/khursheed/anaconda3/lib/python3.11/site-packages/sklearn/svm/_classes.py:32: FutureWarning: The default value of `dual` will change from `True` to `'auto'` in 1.5. Set the value of `dual` explicitly to suppress the warning.\n",
      "  warnings.warn(\n",
      "/Users/khursheed/anaconda3/lib/python3.11/site-packages/sklearn/svm/_base.py:1242: ConvergenceWarning: Liblinear failed to converge, increase the number of iterations.\n",
      "  warnings.warn(\n",
      "/Users/khursheed/anaconda3/lib/python3.11/site-packages/sklearn/svm/_classes.py:32: FutureWarning: The default value of `dual` will change from `True` to `'auto'` in 1.5. Set the value of `dual` explicitly to suppress the warning.\n",
      "  warnings.warn(\n",
      "/Users/khursheed/anaconda3/lib/python3.11/site-packages/sklearn/svm/_base.py:1242: ConvergenceWarning: Liblinear failed to converge, increase the number of iterations.\n",
      "  warnings.warn(\n",
      "/Users/khursheed/anaconda3/lib/python3.11/site-packages/sklearn/svm/_classes.py:32: FutureWarning: The default value of `dual` will change from `True` to `'auto'` in 1.5. Set the value of `dual` explicitly to suppress the warning.\n",
      "  warnings.warn(\n"
     ]
    },
    {
     "name": "stdout",
     "output_type": "stream",
     "text": [
      "Best parameters for Linear SVM:  {'C': 0.1}\n"
     ]
    },
    {
     "name": "stderr",
     "output_type": "stream",
     "text": [
      "/Users/khursheed/anaconda3/lib/python3.11/site-packages/sklearn/svm/_classes.py:32: FutureWarning: The default value of `dual` will change from `True` to `'auto'` in 1.5. Set the value of `dual` explicitly to suppress the warning.\n",
      "  warnings.warn(\n"
     ]
    },
    {
     "name": "stdout",
     "output_type": "stream",
     "text": [
      "Accuracy of Optimized Linear SVM model: 0.8389830508474576\n",
      "              precision    recall  f1-score   support\n",
      "\n",
      "           0       0.84      0.84      0.84     10658\n",
      "           1       0.84      0.84      0.84     10700\n",
      "\n",
      "    accuracy                           0.84     21358\n",
      "   macro avg       0.84      0.84      0.84     21358\n",
      "weighted avg       0.84      0.84      0.84     21358\n",
      "\n"
     ]
    }
   ],
   "source": [
    "param_grid_linear_svm = {\n",
    "    'C': [0.01, 0.1, 1, 10, 100] \n",
    "}\n",
    "grid_search_linear_svm = GridSearchCV(LinearSVC(random_state=42), param_grid_linear_svm, cv=3, scoring='accuracy', verbose=1)\n",
    "grid_search_linear_svm.fit(X1_train, y1_train)\n",
    "print(\"Best parameters for Linear SVM: \", grid_search_linear_svm.best_params_)\n",
    "optimized_linear_svm = LinearSVC(**grid_search_linear_svm.best_params_, random_state=42)\n",
    "optimized_linear_svm.fit(X1_train, y1_train)\n",
    "y1_pred_optimized = optimized_linear_svm.predict(X1_test)\n",
    "accuracy_optimized = accuracy_score(y1_test, y1_pred_optimized)\n",
    "print(\"Accuracy of Optimized Linear SVM model:\", accuracy_optimized)\n",
    "print(classification_report(y1_test, y1_pred_optimized))"
   ]
  },
  {
   "cell_type": "raw",
   "id": "0b537df7-f71d-4142-9e66-b20dd76d3450",
   "metadata": {},
   "source": [
    "SVM, Couldn't train the model"
   ]
  },
  {
   "cell_type": "code",
   "execution_count": null,
   "id": "5c347069-c5aa-4075-a50e-5d8aa36da650",
   "metadata": {
    "tags": []
   },
   "outputs": [],
   "source": [
    "svm_poly = SVC(C=1, kernel='poly', random_state=42)\n",
    "svm_poly.fit(X1_train, y1_train)\n",
    "y1_pred_poly = svm_poly.predict(X1_test)\n",
    "accuracy_poly = accuracy_score(y1_test, y1_pred_poly)\n",
    "print(\"Accuracy of SVM model with polynomial kernel:\", accuracy_poly)\n",
    "print(classification_report(y1_test, y1_pred_poly))"
   ]
  },
  {
   "cell_type": "raw",
   "id": "cca90b9e-0291-4bcb-9269-5ce4766bbb8a",
   "metadata": {},
   "source": [
    "Decision Tree"
   ]
  },
  {
   "cell_type": "code",
   "execution_count": 50,
   "id": "4479e643-b3b7-4ccc-8f3d-c60e19e2e97c",
   "metadata": {
    "tags": []
   },
   "outputs": [],
   "source": [
    "# Default Decision Tree Model\n",
    "dt_default = DecisionTreeClassifier()\n",
    "dt_default.fit(X1_train, y1_train)  \n",
    "y_pred_dt = dt_default.predict(X1_test)"
   ]
  },
  {
   "cell_type": "code",
   "execution_count": 51,
   "id": "50911634-3334-45d3-a97d-5e57b0fcbe81",
   "metadata": {
    "tags": []
   },
   "outputs": [
    {
     "name": "stdout",
     "output_type": "stream",
     "text": [
      "Decision Tree Accuracy: 0.7534881543215657\n",
      "              precision    recall  f1-score   support\n",
      "\n",
      "           0       0.75      0.76      0.76     10658\n",
      "           1       0.76      0.74      0.75     10700\n",
      "\n",
      "    accuracy                           0.75     21358\n",
      "   macro avg       0.75      0.75      0.75     21358\n",
      "weighted avg       0.75      0.75      0.75     21358\n",
      "\n"
     ]
    }
   ],
   "source": [
    "accuracy_dt = accuracy_score(y1_test, y_pred_dt)\n",
    "print(\"Decision Tree Accuracy:\", accuracy_dt)\n",
    "print(classification_report(y1_test, y_pred_dt))"
   ]
  },
  {
   "cell_type": "raw",
   "id": "10f6bd74-3056-4737-8157-5731031b6ae1",
   "metadata": {},
   "source": [
    "Grid Search for Decision Tree (takes time to run, use:min_samples_split=2, max_depth=10, min_samples_leaf=4)"
   ]
  },
  {
   "cell_type": "code",
   "execution_count": null,
   "id": "bdf903ab-bf20-4cdd-9ecf-bac79e276546",
   "metadata": {
    "tags": []
   },
   "outputs": [],
   "source": [
    "param_grid_dt = {\n",
    "    'max_depth': [10, 20, 30, None],\n",
    "    'min_samples_split': [2, 5, 10],\n",
    "    'min_samples_leaf': [1, 2, 4]\n",
    "}\n",
    "\n",
    "grid_search_dt = GridSearchCV(DecisionTreeClassifier(random_state=42), param_grid_dt, cv=5, scoring='accuracy')\n",
    "grid_search_dt.fit(X1_train, y1_train)\n",
    "print(\"Best parameters for Decision Tree:\", grid_search_dt.best_params_)"
   ]
  },
  {
   "cell_type": "code",
   "execution_count": 61,
   "id": "9c6f037d-3520-4fed-a77d-812b5abcb298",
   "metadata": {
    "tags": []
   },
   "outputs": [],
   "source": [
    "dt_optimized = DecisionTreeClassifier(min_samples_split=2, max_depth=10, min_samples_leaf=4)\n",
    "dt_optimized.fit(X1_train, y1_train)  \n",
    "y_pred_optimized_dt = dt_default.predict(X1_test)"
   ]
  },
  {
   "cell_type": "code",
   "execution_count": 62,
   "id": "acc25739-fe60-4a13-b7e3-7a85610eb2af",
   "metadata": {
    "tags": []
   },
   "outputs": [
    {
     "name": "stdout",
     "output_type": "stream",
     "text": [
      "Optimized Decision Tree Accuracy: 0.7534881543215657\n"
     ]
    }
   ],
   "source": [
    "accuracy_optimized_dt = accuracy_score(y_test, y_pred_optimized_dt)\n",
    "print(\"Optimized Decision Tree Accuracy:\", accuracy_optimized_dt)"
   ]
  },
  {
   "cell_type": "code",
   "execution_count": null,
   "id": "e6fd7e26-54d6-4008-b5f6-5263f130054e",
   "metadata": {},
   "outputs": [],
   "source": [
    "Random Forest"
   ]
  },
  {
   "cell_type": "code",
   "execution_count": 63,
   "id": "51dd6b0b-f5ef-4e47-bb1e-1c38de5ba861",
   "metadata": {},
   "outputs": [
    {
     "name": "stdout",
     "output_type": "stream",
     "text": [
      "Random Forest Accuracy: 0.8175390954209195\n"
     ]
    }
   ],
   "source": [
    "rf_default = RandomForestClassifier(random_state=42)\n",
    "rf_default.fit(X_train, y_train)\n",
    "y_pred_rf = rf_default.predict(X_test)\n",
    "accuracy_rf = accuracy_score(y_test, y_pred_rf)\n",
    "print(\"Random Forest Accuracy:\", accuracy_rf)"
   ]
  },
  {
   "cell_type": "code",
   "execution_count": 64,
   "id": "05108340-8ee3-4ade-8255-ce145829ef1c",
   "metadata": {
    "tags": []
   },
   "outputs": [
    {
     "name": "stdout",
     "output_type": "stream",
     "text": [
      "              precision    recall  f1-score   support\n",
      "\n",
      "           0       0.81      0.82      0.82     10658\n",
      "           1       0.82      0.81      0.82     10700\n",
      "\n",
      "    accuracy                           0.82     21358\n",
      "   macro avg       0.82      0.82      0.82     21358\n",
      "weighted avg       0.82      0.82      0.82     21358\n",
      "\n"
     ]
    }
   ],
   "source": [
    "print(classification_report(y1_test, y_pred_rf))"
   ]
  },
  {
   "cell_type": "code",
   "execution_count": null,
   "id": "ac51bc70-74eb-404f-93da-8d9c688850f0",
   "metadata": {},
   "outputs": [],
   "source": [
    "Gradient Boosting Machine"
   ]
  },
  {
   "cell_type": "code",
   "execution_count": 65,
   "id": "bac8e7cd-53bf-4f42-a7c7-5fe8fcc775a7",
   "metadata": {
    "tags": []
   },
   "outputs": [
    {
     "name": "stdout",
     "output_type": "stream",
     "text": [
      "Gradient Boosting Machine Accuracy: 0.8126229047663639\n",
      "              precision    recall  f1-score   support\n",
      "\n",
      "           0       0.81      0.82      0.81     10658\n",
      "           1       0.82      0.80      0.81     10700\n",
      "\n",
      "    accuracy                           0.81     21358\n",
      "   macro avg       0.81      0.81      0.81     21358\n",
      "weighted avg       0.81      0.81      0.81     21358\n",
      "\n"
     ]
    }
   ],
   "source": [
    "# Creating the XGBoost classifier using xgb import\n",
    "xgb_clf = xgb.XGBClassifier(use_label_encoder=False, eval_metric='logloss')\n",
    "xgb_clf.fit(X_train, y_train)\n",
    "y_pred_xgb = xgb_clf.predict(X_test)\n",
    "accuracy_xgb = accuracy_score(y_test, y_pred_xgb)\n",
    "print(\"Gradient Boosting Machine Accuracy:\", accuracy_xgb)\n",
    "print(classification_report(y_test, y_pred_xgb))"
   ]
  },
  {
   "cell_type": "raw",
   "id": "9e82e752-8c20-412b-a7f2-6274145ec984",
   "metadata": {},
   "source": [
    "RNN model with dense layer "
   ]
  },
  {
   "cell_type": "code",
   "execution_count": 66,
   "id": "29cb5228-3c12-4b19-8b71-9c99f363bb34",
   "metadata": {
    "tags": []
   },
   "outputs": [
    {
     "name": "stdout",
     "output_type": "stream",
     "text": [
      "Epoch 1/5\n",
      "1602/1602 [==============================] - 1s 576us/step - loss: 0.4620 - accuracy: 0.7820 - val_loss: 0.4438 - val_accuracy: 0.7927\n",
      "Epoch 2/5\n",
      "1602/1602 [==============================] - 1s 515us/step - loss: 0.4283 - accuracy: 0.8030 - val_loss: 0.4364 - val_accuracy: 0.7959\n",
      "Epoch 3/5\n",
      "1602/1602 [==============================] - 1s 509us/step - loss: 0.4168 - accuracy: 0.8070 - val_loss: 0.4242 - val_accuracy: 0.8041\n",
      "Epoch 4/5\n",
      "1602/1602 [==============================] - 1s 514us/step - loss: 0.4089 - accuracy: 0.8121 - val_loss: 0.4256 - val_accuracy: 0.8017\n",
      "Epoch 5/5\n",
      "1602/1602 [==============================] - 1s 507us/step - loss: 0.4028 - accuracy: 0.8159 - val_loss: 0.4193 - val_accuracy: 0.8064\n",
      "668/668 [==============================] - 0s 254us/step\n",
      "Model Accuracy: 0.808081281018822\n",
      "              precision    recall  f1-score   support\n",
      "\n",
      "           0       0.81      0.81      0.81     10658\n",
      "           1       0.81      0.81      0.81     10700\n",
      "\n",
      "    accuracy                           0.81     21358\n",
      "   macro avg       0.81      0.81      0.81     21358\n",
      "weighted avg       0.81      0.81      0.81     21358\n",
      "\n"
     ]
    }
   ],
   "source": [
    "model_rnn_w2v = Sequential([\n",
    "    Dense(64, activation='relu', input_shape=(X_train.shape[1],)),\n",
    "    Dense(32, activation='relu'),\n",
    "    Dense(1, activation='sigmoid')\n",
    "])\n",
    "model_rnn_w2v.compile(optimizer='adam', loss='binary_crossentropy', metrics=['accuracy'])\n",
    "history = model_rnn_w2v.fit(X_train, y_train, epochs=5, validation_split=0.2)\n",
    "y_pred = model_rnn_w2v.predict(X_test)\n",
    "y_pred_binary = (y_pred > 0.5).astype(int).flatten()\n",
    "accuracy = accuracy_score(y_test, y_pred_binary)\n",
    "print(\"Model Accuracy:\", accuracy)\n",
    "print(classification_report(y_test,y_pred_binary))"
   ]
  },
  {
   "cell_type": "code",
   "execution_count": 69,
   "id": "728096fd-4976-4ee6-ab83-7bada0524e6b",
   "metadata": {
    "tags": []
   },
   "outputs": [],
   "source": [
    "#Defining function for a string which we can use to cross validate if our model is working\n",
    "def string_to_w2v_vector(input_string, word2vec_model):\n",
    "    words = preprocess_text(input_string)  \n",
    "    word_vectors = [word2vec_model.wv[word] for word in words if word in word2vec_model.wv]\n",
    "\n",
    "    if len(word_vectors) > 0:\n",
    "        document_vector = np.mean(word_vectors, axis=0)\n",
    "    else:\n",
    "        document_vector = np.zeros(vs) \n",
    "    \n",
    "    return document_vector.reshape(1, -1)  "
   ]
  },
  {
   "cell_type": "code",
   "execution_count": 70,
   "id": "9636ce1b-471a-4cb9-ac52-926b3c77cb37",
   "metadata": {
    "tags": []
   },
   "outputs": [],
   "source": [
    "def predict_sentiment(input_string, model, word2vec_model):\n",
    "    #to convert it to vector document which can be utilised \n",
    "    vectorized_input = string_to_w2v_vector(input_string, word2vec_model)\n",
    "    \n",
    "    # Make a prediction\n",
    "    prediction = model.predict(vectorized_input)\n",
    "    \n",
    "    # Interpret the prediction\n",
    "    #sentiment = \"positive\" if prediction[0][0] > 0.5 else \"negative\"\n",
    "    #return sentiment\n",
    "    return prediction"
   ]
  },
  {
   "cell_type": "code",
   "execution_count": 76,
   "id": "f4380933-c69b-47fd-aaf8-fa18283c12d3",
   "metadata": {
    "tags": []
   },
   "outputs": [],
   "source": [
    "def predict_sentiment2(input_string, model, word2vec_model):\n",
    "    #to convert it to vector document which can be utilised \n",
    "    vectorized_input = string_to_w2v_vector(input_string, word2vec_model)\n",
    "    \n",
    "    # Make a prediction\n",
    "    prediction = model.predict(vectorized_input)\n",
    "    \n",
    "    # Interpret the prediction, using this for RNN model\n",
    "    sentiment = \"positive\" if prediction[0][0] > 0.5 else \"negative\"\n",
    "    return sentiment\n",
    "    #return prediction"
   ]
  },
  {
   "cell_type": "raw",
   "id": "184e6e41-941d-4f6e-8f07-de17e408f858",
   "metadata": {},
   "source": [
    "Cross Validation using string for XGB model"
   ]
  },
  {
   "cell_type": "code",
   "execution_count": 71,
   "id": "b258c801-57db-4dca-9aba-d617e85e7627",
   "metadata": {
    "tags": []
   },
   "outputs": [
    {
     "name": "stdout",
     "output_type": "stream",
     "text": [
      "Predicted sentiment: [1]\n"
     ]
    }
   ],
   "source": [
    "input_string = \"This product is so good, I love it! it can be better but\"\n",
    "predicted_sentiment = predict_sentiment(input_string,xgb_clf, w2v_model)\n",
    "print(\"Predicted sentiment:\", predicted_sentiment)"
   ]
  },
  {
   "cell_type": "code",
   "execution_count": 72,
   "id": "46cdd5c6-6bf3-415d-8754-62b030eac4d5",
   "metadata": {
    "tags": []
   },
   "outputs": [
    {
     "name": "stdout",
     "output_type": "stream",
     "text": [
      "Predicted sentiment: [0]\n"
     ]
    }
   ],
   "source": [
    "input_string = \"I cannot say how bad it is, cannot think how something could be this unfunctional\"\n",
    "predicted_sentiment = predict_sentiment(input_string,xgb_clf, w2v_model)\n",
    "print(\"Predicted sentiment:\", predicted_sentiment)"
   ]
  },
  {
   "cell_type": "code",
   "execution_count": 73,
   "id": "80619f34-584d-414b-8648-f17ac0c7405e",
   "metadata": {
    "tags": []
   },
   "outputs": [
    {
     "name": "stdout",
     "output_type": "stream",
     "text": [
      "Predicted sentiment: [0]\n"
     ]
    }
   ],
   "source": [
    "input_string = \"Don't recommened.\"\n",
    "predicted_sentiment = predict_sentiment(input_string,xgb_clf, w2v_model)\n",
    "print(\"Predicted sentiment:\", predicted_sentiment)"
   ]
  },
  {
   "cell_type": "raw",
   "id": "bbc20098-aec3-423e-9729-33ce4d27c114",
   "metadata": {},
   "source": [
    "Cross Validation using string for RNN Dense Layer Model"
   ]
  },
  {
   "cell_type": "code",
   "execution_count": 77,
   "id": "05ac1281-cf39-491d-bad7-7757e498c5a3",
   "metadata": {
    "tags": []
   },
   "outputs": [
    {
     "name": "stdout",
     "output_type": "stream",
     "text": [
      "1/1 [==============================] - 0s 7ms/step\n",
      "Predicted sentiment: negative\n"
     ]
    }
   ],
   "source": [
    "input_string = \"I cannot say how bad it is, cannot think how something could be this unfunctional\"\n",
    "predicted_sentiment = predict_sentiment2(input_string,model_rnn_w2v, w2v_model)\n",
    "print(\"Predicted sentiment:\", predicted_sentiment)"
   ]
  },
  {
   "cell_type": "code",
   "execution_count": 78,
   "id": "2dcd2448-f0a9-4555-85eb-e9615bbd3f7c",
   "metadata": {
    "tags": []
   },
   "outputs": [
    {
     "name": "stdout",
     "output_type": "stream",
     "text": [
      "1/1 [==============================] - 0s 6ms/step\n",
      "Predicted sentiment: negative\n"
     ]
    }
   ],
   "source": [
    "input_string = \"Don't recommened.\"\n",
    "predicted_sentiment = predict_sentiment2(input_string,model_rnn_w2v, w2v_model)\n",
    "print(\"Predicted sentiment:\", predicted_sentiment)"
   ]
  },
  {
   "cell_type": "code",
   "execution_count": 79,
   "id": "ca278f3d-b6e1-404d-bad1-1e7d57b67f24",
   "metadata": {
    "tags": []
   },
   "outputs": [
    {
     "name": "stdout",
     "output_type": "stream",
     "text": [
      "1/1 [==============================] - 0s 9ms/step\n",
      "Predicted sentiment: positive\n"
     ]
    }
   ],
   "source": [
    "input_string = \"This product is so good I love it\"\n",
    "predicted_sentiment = predict_sentiment2(input_string, model_rnn_w2v, w2v_model)\n",
    "print(\"Predicted sentiment:\", predicted_sentiment)\n"
   ]
  },
  {
   "cell_type": "raw",
   "id": "0d1cccf2-a7c8-4abb-996e-b1e8c27af032",
   "metadata": {},
   "source": [
    "Cross Validation using k-folds"
   ]
  },
  {
   "cell_type": "code",
   "execution_count": 68,
   "id": "c856cf7a-a59b-4785-bd87-08117ffecba5",
   "metadata": {
    "tags": []
   },
   "outputs": [
    {
     "name": "stderr",
     "output_type": "stream",
     "text": [
      "/Users/khursheed/anaconda3/lib/python3.11/site-packages/sklearn/svm/_classes.py:32: FutureWarning: The default value of `dual` will change from `True` to `'auto'` in 1.5. Set the value of `dual` explicitly to suppress the warning.\n",
      "  warnings.warn(\n",
      "/Users/khursheed/anaconda3/lib/python3.11/site-packages/sklearn/svm/_classes.py:32: FutureWarning: The default value of `dual` will change from `True` to `'auto'` in 1.5. Set the value of `dual` explicitly to suppress the warning.\n",
      "  warnings.warn(\n",
      "/Users/khursheed/anaconda3/lib/python3.11/site-packages/sklearn/svm/_classes.py:32: FutureWarning: The default value of `dual` will change from `True` to `'auto'` in 1.5. Set the value of `dual` explicitly to suppress the warning.\n",
      "  warnings.warn(\n",
      "/Users/khursheed/anaconda3/lib/python3.11/site-packages/sklearn/svm/_classes.py:32: FutureWarning: The default value of `dual` will change from `True` to `'auto'` in 1.5. Set the value of `dual` explicitly to suppress the warning.\n",
      "  warnings.warn(\n",
      "/Users/khursheed/anaconda3/lib/python3.11/site-packages/sklearn/svm/_classes.py:32: FutureWarning: The default value of `dual` will change from `True` to `'auto'` in 1.5. Set the value of `dual` explicitly to suppress the warning.\n",
      "  warnings.warn(\n",
      "/Users/khursheed/anaconda3/lib/python3.11/site-packages/sklearn/svm/_classes.py:32: FutureWarning: The default value of `dual` will change from `True` to `'auto'` in 1.5. Set the value of `dual` explicitly to suppress the warning.\n",
      "  warnings.warn(\n",
      "/Users/khursheed/anaconda3/lib/python3.11/site-packages/sklearn/svm/_classes.py:32: FutureWarning: The default value of `dual` will change from `True` to `'auto'` in 1.5. Set the value of `dual` explicitly to suppress the warning.\n",
      "  warnings.warn(\n",
      "/Users/khursheed/anaconda3/lib/python3.11/site-packages/sklearn/svm/_classes.py:32: FutureWarning: The default value of `dual` will change from `True` to `'auto'` in 1.5. Set the value of `dual` explicitly to suppress the warning.\n",
      "  warnings.warn(\n",
      "/Users/khursheed/anaconda3/lib/python3.11/site-packages/sklearn/svm/_classes.py:32: FutureWarning: The default value of `dual` will change from `True` to `'auto'` in 1.5. Set the value of `dual` explicitly to suppress the warning.\n",
      "  warnings.warn(\n",
      "/Users/khursheed/anaconda3/lib/python3.11/site-packages/sklearn/svm/_classes.py:32: FutureWarning: The default value of `dual` will change from `True` to `'auto'` in 1.5. Set the value of `dual` explicitly to suppress the warning.\n",
      "  warnings.warn(\n"
     ]
    },
    {
     "name": "stdout",
     "output_type": "stream",
     "text": [
      "Naive Bayes (Default): Mean accuracy=0.75 Std=0.01\n",
      "Multinomial Naive Bayes (Default): Mean accuracy=0.80 Std=0.01\n",
      "Multinomial Naive Bayes (Optimized): Mean accuracy=0.80 Std=0.01\n",
      "Linear Regression (Default): Mean accuracy=0.83 Std=0.01\n",
      "Linear Regression (Optimized): Mean accuracy=0.83 Std=0.01\n",
      "Linear SVM (Default): Mean accuracy=0.83 Std=0.01\n",
      "Linear SVM (Optimized): Mean accuracy=0.83 Std=0.01\n",
      "Random Forest (Default): Mean accuracy=0.83 Std=0.01\n",
      "Gradient Boosting Machine: Mean accuracy=0.82 Std=0.00\n"
     ]
    }
   ],
   "source": [
    "models = {\n",
    "    'Naive Bayes (Default)':gnb,\n",
    "    'Multinomial Naive Bayes (Default)':mnb,\n",
    "    'Multinomial Naive Bayes (Optimized)':best_mnb,\n",
    "    'Linear Regression (Default)':default_logreg,\n",
    "    'Linear Regression (Optimized)':optimized_logreg,\n",
    "    'Linear SVM (Default)': linear_svm,\n",
    "    'Linear SVM (Optimized)': optimized_linear_svm,\n",
    "    'Random Forest (Default)': rf_default,\n",
    "    'Gradient Boosting Machine': xgb_clf,\n",
    "    \n",
    "}\n",
    "n_folds = 5\n",
    "cv_scores = {}\n",
    "\n",
    "for name, model in models.items():\n",
    "    scores = cross_val_score(model, X1, y1, cv=n_folds, scoring='accuracy')\n",
    "    cv_scores[name] = scores\n",
    "for name, scores in cv_scores.items():\n",
    "    print(f\"{name}: Mean accuracy={scores.mean():.2f} Std={scores.std():.2f}\")"
   ]
  },
  {
   "cell_type": "raw",
   "id": "708a2104-428d-4714-ba23-6e6170a033da",
   "metadata": {},
   "source": [
    "Using trained sentiment model to write pros and cons on sample review data"
   ]
  },
  {
   "cell_type": "code",
   "execution_count": 102,
   "id": "9b6ac8a3-20bb-4dc6-aef5-83a4ff9c36ce",
   "metadata": {
    "tags": []
   },
   "outputs": [],
   "source": [
    "def predict_sentiment3(input_string, model, word2vec_model):\n",
    "    vectorized_input = string_to_w2v_vector(input_string, word2vec_model)\n",
    "\n",
    "    # To reeshape the vector to be 2D (1, number_of_features), since RNN models expects 2d array (from error logs I got), then make prediction using rnn model (which will be taken from parameter of function)\n",
    "    vectorized_input_2d = np.reshape(vectorized_input, (1, -1))\n",
    "    prediction = model.predict(vectorized_input_2d)\n",
    "    \n",
    "    # Interpret the prediction\n",
    "    sentiment = \"Positive\" if prediction[0][0] > 0.5 else \"Negative\"\n",
    "    return sentiment"
   ]
  },
  {
   "cell_type": "code",
   "execution_count": 103,
   "id": "84e2b24f-d0fa-4030-be27-4b4898ab5c5a",
   "metadata": {
    "tags": []
   },
   "outputs": [
    {
     "name": "stdout",
     "output_type": "stream",
     "text": [
      "1/1 [==============================] - 0s 7ms/step\n",
      "1/1 [==============================] - 0s 6ms/step\n",
      "Pros:\n",
      "- The product quality is outstanding.\n",
      "\n",
      "Cons:\n",
      "- However, it is quite expensive.\n"
     ]
    }
   ],
   "source": [
    "from nltk.tokenize import sent_tokenize\n",
    "def extract_pros_and_cons(review, model, word2vec_model):\n",
    "    sentences = sent_tokenize(review) #splitting the review into sentences, which will be used for pros and cons\n",
    "    \n",
    "    pros = [] #two empty arrays for pros and cons\n",
    "    cons = []\n",
    "\n",
    "    for sentence in sentences:\n",
    "        # Predicts the sentiment of the sentence, using our defined function from above, predict_sentiment3. this returns a 2d array\n",
    "        sentiment = predict_sentiment3(sentence, model, word2vec_model)\n",
    "\n",
    "        #categorizing sentiment, if positive added to pros and negative added to cons\n",
    "        if sentiment == \"Positive\":\n",
    "            pros.append(sentence)\n",
    "        else:\n",
    "            cons.append(sentence)\n",
    "\n",
    "    return pros, cons\n",
    "\n",
    "# First example\n",
    "review_example = \"The product quality is outstanding. However, it is quite expensive.\"\n",
    "#review_example2=\"The product is so bad, but I cannot live without it, so I like it!\"\n",
    "\n",
    "# Extract pros and cons and then print the pros and cons\n",
    "pros, cons = extract_pros_and_cons(review_example, model_rnn_w2v, w2v_model)\n",
    "print(\"Pros:\")\n",
    "for pro in pros:\n",
    "    print(\"-\", pro)\n",
    "\n",
    "print(\"\\nCons:\")\n",
    "for con in cons:\n",
    "    print(\"-\", con)"
   ]
  },
  {
   "cell_type": "code",
   "execution_count": 105,
   "id": "eb1ca09d-c567-4bce-9fa8-e0c7f7e63e83",
   "metadata": {
    "tags": []
   },
   "outputs": [
    {
     "name": "stdout",
     "output_type": "stream",
     "text": [
      "1/1 [==============================] - 0s 7ms/step\n",
      "1/1 [==============================] - 0s 6ms/step\n",
      "Pros:\n",
      "- but I cannot live without it so I like it!\n",
      "\n",
      "Cons:\n",
      "- The product is so bad.\n"
     ]
    }
   ],
   "source": [
    "review_example2=\"The product is so bad. but I cannot live without it so I like it!\"\n",
    "pros, cons = extract_pros_and_cons(review_example2, model_rnn_w2v, w2v_model)\n",
    "print(\"Pros:\")\n",
    "for pro in pros:\n",
    "    print(\"-\", pro)\n",
    "print(\"\\nCons:\")\n",
    "for con in cons:\n",
    "    print(\"-\", con)"
   ]
  },
  {
   "cell_type": "code",
   "execution_count": 106,
   "id": "1beea390-cce0-429b-88b1-0a8db88d06ab",
   "metadata": {
    "tags": []
   },
   "outputs": [
    {
     "name": "stdout",
     "output_type": "stream",
     "text": [
      "1/1 [==============================] - 0s 8ms/step\n",
      "1/1 [==============================] - 0s 7ms/step\n",
      "Pros:\n",
      "- I love it.\n",
      "- Recommend it\n",
      "\n",
      "Cons:\n"
     ]
    }
   ],
   "source": [
    "review_example3 = \"I love it. Recommend it \"\n",
    "pros, cons = extract_pros_and_cons(review_example3, model_rnn_w2v, w2v_model)\n",
    "print(\"Pros:\")\n",
    "for pro in pros:\n",
    "    print(\"-\", pro)\n",
    "print(\"\\nCons:\")\n",
    "for con in cons:\n",
    "    print(\"-\", con)"
   ]
  },
  {
   "cell_type": "code",
   "execution_count": 110,
   "id": "37c09352-9487-4e23-8d75-c5e933a7b040",
   "metadata": {
    "tags": []
   },
   "outputs": [
    {
     "name": "stdout",
     "output_type": "stream",
     "text": [
      "1/1 [==============================] - 0s 7ms/step\n",
      "1/1 [==============================] - 0s 8ms/step\n",
      "1/1 [==============================] - 0s 6ms/step\n",
      "1/1 [==============================] - 0s 7ms/step\n",
      "1/1 [==============================] - 0s 6ms/step\n",
      "Pros:\n",
      "\n",
      "Cons:\n",
      "- Simply awful.\n",
      "- This product should be taken off the market immediately.\n",
      "- They did absolutely nothing for my 2-yr old dog's teeth.\n",
      "- I gave him about 4 per week until he almost choked to death on about the 10th one.\n",
      "- Awful, dangerous product, simple as that.\n"
     ]
    }
   ],
   "source": [
    "review_example4=\"Simply awful. This product should be taken off the market immediately.  They did absolutely nothing for my 2-yr old dog's teeth.  I gave him about 4 per week until he almost choked to death on about the 10th one.  Awful, dangerous product, simple as that.\"\n",
    "pros, cons = extract_pros_and_cons(review_example4, model_rnn_w2v, w2v_model)\n",
    "print(\"Pros:\")\n",
    "for pro in pros:\n",
    "    print(\"-\", pro)\n",
    "print(\"\\nCons:\")\n",
    "for con in cons:\n",
    "    print(\"-\", con)"
   ]
  },
  {
   "cell_type": "code",
   "execution_count": 113,
   "id": "3a1d29fe-cdac-45da-8478-fd0c57036309",
   "metadata": {
    "tags": []
   },
   "outputs": [
    {
     "name": "stdout",
     "output_type": "stream",
     "text": [
      "1/1 [==============================] - 0s 7ms/step\n",
      "1/1 [==============================] - 0s 6ms/step\n",
      "1/1 [==============================] - 0s 6ms/step\n",
      "Pros:\n",
      "- This is THE best red curry.\n",
      "- Mix with cocunut milk and real palm sugar + chicken and veggies and you will amaze your friend and families.\n",
      "- This is great red curry paste!\n",
      "\n",
      "Cons:\n"
     ]
    }
   ],
   "source": [
    "review_example5=\"This is THE best red curry.  Mix with cocunut milk and real palm sugar + chicken and veggies and you will amaze your friend and families.  This is great red curry paste!\"\n",
    "pros, cons = extract_pros_and_cons(review_example5, model_rnn_w2v, w2v_model)\n",
    "print(\"Pros:\")\n",
    "for pro in pros:\n",
    "    print(\"-\", pro)\n",
    "print(\"\\nCons:\")\n",
    "for con in cons:\n",
    "    print(\"-\", con)"
   ]
  },
  {
   "cell_type": "code",
   "execution_count": 115,
   "id": "c02a0e33-c228-446e-8cfd-a038575ace3c",
   "metadata": {
    "tags": []
   },
   "outputs": [
    {
     "name": "stdout",
     "output_type": "stream",
     "text": [
      "1/1 [==============================] - 0s 7ms/step\n",
      "1/1 [==============================] - 0s 6ms/step\n",
      "1/1 [==============================] - 0s 8ms/step\n",
      "Pros:\n",
      "- We love Crystal Light Fruit Punch.\n",
      "- Granted, this is a LARGE amount of punch but works great when mixed in a very large container.\n",
      "\n",
      "Cons:\n",
      "- Expensive for its price.\n"
     ]
    }
   ],
   "source": [
    "review_example6=\"We love Crystal Light Fruit Punch.  Granted, this is a LARGE amount of punch but works great when mixed in a very large container.  Expensive for its price.\"\n",
    "pros, cons = extract_pros_and_cons(review_example6, model_rnn_w2v, w2v_model)\n",
    "print(\"Pros:\")\n",
    "for pro in pros:\n",
    "    print(\"-\", pro)\n",
    "print(\"\\nCons:\")\n",
    "for con in cons:\n",
    "    print(\"-\", con)"
   ]
  }
 ],
 "metadata": {
  "kernelspec": {
   "display_name": "Python 3 (ipykernel)",
   "language": "python",
   "name": "python3"
  },
  "language_info": {
   "codemirror_mode": {
    "name": "ipython",
    "version": 3
   },
   "file_extension": ".py",
   "mimetype": "text/x-python",
   "name": "python",
   "nbconvert_exporter": "python",
   "pygments_lexer": "ipython3",
   "version": "3.11.4"
  }
 },
 "nbformat": 4,
 "nbformat_minor": 5
}
